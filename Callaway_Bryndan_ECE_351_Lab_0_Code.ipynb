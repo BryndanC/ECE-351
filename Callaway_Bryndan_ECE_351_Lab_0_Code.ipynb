{
 "cells": [
  {
   "cell_type": "code",
   "execution_count": 2,
   "id": "1fce15fe-f0f0-4505-9883-7a10d8a7052a",
   "metadata": {},
   "outputs": [],
   "source": [
    "import numpy\n",
    "import matplotlib.pyplot\n",
    "import scipy\n",
    "import control\n",
    "import pandas"
   ]
  },
  {
   "cell_type": "code",
   "execution_count": null,
   "id": "d3ede683-a82e-49eb-9abd-8c3055a25d6c",
   "metadata": {},
   "outputs": [],
   "source": [
    "#1. What did you do over last summer, or what are you planning to do this upcoming summer?\n",
    "    #A few highlights: I did a lot of fishing, and went to a three-day music festival.\n",
    "#2. What do you personally want to get out of this lab?\n",
    "    #I feel like I was tricked into taking this lab, and I'm not happy about being in it. I don't know what topics are covered here, but I will make the best of it and see what I can learn."
   ]
  }
 ],
 "metadata": {
  "kernelspec": {
   "display_name": "Python 3 (ipykernel)",
   "language": "python",
   "name": "python3"
  },
  "language_info": {
   "codemirror_mode": {
    "name": "ipython",
    "version": 3
   },
   "file_extension": ".py",
   "mimetype": "text/x-python",
   "name": "python",
   "nbconvert_exporter": "python",
   "pygments_lexer": "ipython3",
   "version": "3.9.12"
  }
 },
 "nbformat": 4,
 "nbformat_minor": 5
}
